{
 "cells": [
  {
   "cell_type": "code",
   "execution_count": null,
   "id": "5a345d76-55eb-4ea5-a9b3-fd5d67fafa11",
   "metadata": {},
   "outputs": [],
   "source": [
    "\"\"\"\n",
    "    This notebook extracts the Precipitation Frequency Estimates (PFE) for Multi-stations.\n",
    "    The headers and footnotes are trimmed off\n",
    "    \n",
    "    contact\n",
    "    ----------\n",
    "    Dr. KENNETH EKPETERE |kenneth.ekpetere@gmail.com\n",
    "\n",
    "    \"\"\""
   ]
  },
  {
   "cell_type": "code",
   "execution_count": 1,
   "id": "da17dc38-cac7-4611-bc01-0a8714c55055",
   "metadata": {},
   "outputs": [],
   "source": [
    "import pandas as pd\n",
    "import requests\n",
    "import time\n",
    "import os\n",
    "import csv\n",
    "from io import StringIO\n",
    "import urllib3"
   ]
  },
  {
   "cell_type": "code",
   "execution_count": null,
   "id": "3b21316c-d34e-4336-8e25-be212c1c62f3",
   "metadata": {},
   "outputs": [],
   "source": [
    "# Set Data Type (Bound)\n",
    "# data_type = \"_mean\" # mean\n",
    "# data_type = \"_uppr\" # upper\n",
    "# data_type = \"_lwr\" # lower\n",
    "# data_type = \"\" # All"
   ]
  },
  {
   "cell_type": "markdown",
   "id": "6044eed7-6519-4ec3-b1eb-6512bd361a5e",
   "metadata": {},
   "source": [
    "#### **Extracts & Trims PFE Tables (headers & footers-removed)**"
   ]
  },
  {
   "cell_type": "code",
   "execution_count": 7,
   "id": "d825c324-20f8-4fb6-b18f-b5a99dba8523",
   "metadata": {},
   "outputs": [
    {
     "name": "stdout",
     "output_type": "stream",
     "text": [
      "PFE for ID 101298 extracted_timmed and saved to 'Bad_pfe_files_fixed\\PFE_trim_101298_41.6398_-114.0234.csv'\n",
      "PFE for ID 103677 extracted_timmed and saved to 'Bad_pfe_files_fixed\\PFE_trim_103677_41.098_-114.5508.csv'\n",
      "PFE for ID 107211 extracted_timmed and saved to 'Bad_pfe_files_fixed\\PFE_trim_107211_41.9203_-112.5711.csv'\n",
      "PFE for ID 105567 extracted_timmed and saved to 'Bad_pfe_files_fixed\\PFE_trim_105567_41.3019_-113.335.csv'\n",
      "PFE for ID 105544 extracted_timmed and saved to 'Bad_pfe_files_fixed\\PFE_trim_105544_41.2_-112.2667.csv'\n",
      "PFE for ID 103811 extracted_timmed and saved to 'Bad_pfe_files_fixed\\PFE_trim_103811_41.345_-115.8833.csv'\n",
      "PFE for ID 336882 extracted_timmed and saved to 'Bad_pfe_files_fixed\\PFE_trim_336882_41.35_-82.8.csv'\n",
      "PFE for ID 354670 extracted_timmed and saved to 'Bad_pfe_files_fixed\\PFE_trim_354670_41.2139_-120.3636.csv'\n",
      "PFE for ID 482175 extracted_timmed and saved to 'Bad_pfe_files_fixed\\PFE_trim_482175_41.7333_-103.7333.csv'\n",
      "PFE for ID 486597 extracted_timmed and saved to 'Bad_pfe_files_fixed\\PFE_trim_486597_41.3167_-103.9167.csv'\n",
      "PFE for ID 486555 extracted_timmed and saved to 'Bad_pfe_files_fixed\\PFE_trim_486555_41.2708_-103.3306.csv'\n",
      "PFE for ID 483100 extracted_timmed and saved to 'Bad_pfe_files_fixed\\PFE_trim_483100_41.265_-103.95.csv'\n",
      "All IDs processed.\n"
     ]
    }
   ],
   "source": [
    "# Disable SSL warnings\n",
    "urllib3.disable_warnings(urllib3.exceptions.InsecureRequestWarning)\n",
    "\n",
    "# Read input CSV file\n",
    "input_csv = \"./DataFolder/test_stn.csv\"  # test stations (12 - stations)\n",
    "# input_csv = \"./DataFolder/stn.csv\"      # full stations (2360 - stations)\n",
    "df = pd.read_csv(input_csv, usecols=['ID', 'Lat', 'Lon'])\n",
    "\n",
    "# Create output directory if it does not exist\n",
    "output_dir = \"PFE_files\"\n",
    "if not os.path.exists(output_dir):\n",
    "    os.makedirs(output_dir)\n",
    "\n",
    "# Function to remove first 12 (headers) rows and last 3 (footer) rows from CSV data\n",
    "def trim_csv_data(csv_data):\n",
    "    csv_reader = csv.reader(csv_data)\n",
    "    rows = list(csv_reader)\n",
    "    trimmed_rows = rows[12:-3]\n",
    "    return trimmed_rows\n",
    "\n",
    "# Loop through each row in the DataFrame\n",
    "for index, row in df.iterrows():\n",
    "    ID = str(int(row['ID']))  \n",
    "    latitude = str(row['Lat'])\n",
    "    longitude = str(row['Lon'])\n",
    "    data_type = \"_mean\"  # mean\n",
    "    \n",
    "    # URL with the provided coordinates\n",
    "    url = f\"https://hdsc.nws.noaa.gov/cgi-bin/new/fe_text{data_type}.csv?lat={latitude}&lon={longitude}& \\\n",
    "    data=depth&units=english&series=pds&selAddr=-&selElevNum=-&selElevSym=ft&selStaName=-\"\n",
    "    \n",
    "    try:\n",
    "        # Send an HTTP GET request to the URL\n",
    "        response = requests.get(url, verify=False)\n",
    "\n",
    "        # Parse the CSV data from the response content\n",
    "        csv_data = StringIO(response.text)\n",
    "        \n",
    "        # Trim the CSV data (remove first 12 and last 3 rows)\n",
    "        trimmed_rows = trim_csv_data(csv_data)\n",
    "\n",
    "        # Define the path for the new CSV file\n",
    "        output_file_name = f\"PFE_trim_{ID}_{latitude}_{longitude}.csv\"\n",
    "        output_file_path = os.path.join(output_dir, output_file_name)\n",
    "\n",
    "        # Write the trimmed CSV data to the new file\n",
    "        with open(output_file_path, \"w\", newline=\"\") as output_file:\n",
    "            csv_writer = csv.writer(output_file)\n",
    "            csv_writer.writerows(trimmed_rows)\n",
    "\n",
    "        print(f\"PFE for ID {ID} extracted_timmed and saved to '{output_file_path}'\")\n",
    "\n",
    "    except Exception as e:\n",
    "        print(f\"An error occurred for ID {ID}: {e}\")\n",
    "    \n",
    "    # Pause for specified time (sec) before the next request\n",
    "    time.sleep(2)\n",
    "print(\"All IDs processed.\")"
   ]
  },
  {
   "cell_type": "code",
   "execution_count": null,
   "id": "a8ff5152-b761-42d4-bdb1-373a633949c5",
   "metadata": {},
   "outputs": [],
   "source": []
  }
 ],
 "metadata": {
  "kernelspec": {
   "display_name": "Python 3 (ipykernel)",
   "language": "python",
   "name": "python3"
  },
  "language_info": {
   "codemirror_mode": {
    "name": "ipython",
    "version": 3
   },
   "file_extension": ".py",
   "mimetype": "text/x-python",
   "name": "python",
   "nbconvert_exporter": "python",
   "pygments_lexer": "ipython3",
   "version": "3.8.5"
  }
 },
 "nbformat": 4,
 "nbformat_minor": 5
}
